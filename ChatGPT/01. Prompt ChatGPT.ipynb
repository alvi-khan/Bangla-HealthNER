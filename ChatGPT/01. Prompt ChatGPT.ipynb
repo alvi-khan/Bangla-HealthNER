{
 "cells": [
  {
   "cell_type": "code",
   "execution_count": null,
   "metadata": {
    "execution": {
     "iopub.execute_input": "2023-06-18T16:56:03.677004Z",
     "iopub.status.busy": "2023-06-18T16:56:03.676292Z",
     "iopub.status.idle": "2023-06-18T16:56:03.709322Z",
     "shell.execute_reply": "2023-06-18T16:56:03.707868Z",
     "shell.execute_reply.started": "2023-06-18T16:56:03.676974Z"
    },
    "trusted": true
   },
   "outputs": [],
   "source": [
    "key = PERSONAL_API_KEY"
   ]
  },
  {
   "cell_type": "code",
   "execution_count": null,
   "metadata": {
    "execution": {
     "iopub.execute_input": "2023-06-18T16:56:19.046154Z",
     "iopub.status.busy": "2023-06-18T16:56:19.045802Z",
     "iopub.status.idle": "2023-06-18T16:56:19.210093Z",
     "shell.execute_reply": "2023-06-18T16:56:19.208850Z",
     "shell.execute_reply.started": "2023-06-18T16:56:19.046125Z"
    },
    "trusted": true
   },
   "outputs": [],
   "source": [
    "import openai\n",
    "import pandas as pd\n",
    "import time"
   ]
  },
  {
   "cell_type": "code",
   "execution_count": null,
   "metadata": {
    "execution": {
     "iopub.execute_input": "2023-06-18T16:56:21.353429Z",
     "iopub.status.busy": "2023-06-18T16:56:21.352410Z",
     "iopub.status.idle": "2023-06-18T16:56:21.357285Z",
     "shell.execute_reply": "2023-06-18T16:56:21.356616Z",
     "shell.execute_reply.started": "2023-06-18T16:56:21.353400Z"
    },
    "trusted": true
   },
   "outputs": [],
   "source": [
    "openai.api_key = key"
   ]
  },
  {
   "cell_type": "code",
   "execution_count": null,
   "metadata": {
    "execution": {
     "iopub.execute_input": "2023-06-18T16:56:23.217988Z",
     "iopub.status.busy": "2023-06-18T16:56:23.217620Z",
     "iopub.status.idle": "2023-06-18T16:56:23.224635Z",
     "shell.execute_reply": "2023-06-18T16:56:23.223398Z",
     "shell.execute_reply.started": "2023-06-18T16:56:23.217956Z"
    },
    "trusted": true
   },
   "outputs": [],
   "source": [
    "def get_completion(prompt, model=\"gpt-3.5-turbo\"):\n",
    "    messages = [{\"role\": \"user\", \"content\": prompt}]\n",
    "    response = openai.ChatCompletion.create(\n",
    "        model=model,\n",
    "        messages=messages,\n",
    "        temperature=0\n",
    "    )\n",
    "    return response.choices[0].message[\"content\"]"
   ]
  },
  {
   "cell_type": "code",
   "execution_count": null,
   "metadata": {
    "execution": {
     "iopub.execute_input": "2023-06-18T16:56:44.405178Z",
     "iopub.status.busy": "2023-06-18T16:56:44.404776Z",
     "iopub.status.idle": "2023-06-18T16:56:44.487618Z",
     "shell.execute_reply": "2023-06-18T16:56:44.486412Z",
     "shell.execute_reply.started": "2023-06-18T16:56:44.405150Z"
    },
    "trusted": true
   },
   "outputs": [],
   "source": [
    "df = pd.read_json(\"./data.json\")"
   ]
  },
  {
   "cell_type": "code",
   "execution_count": null,
   "metadata": {
    "execution": {
     "iopub.execute_input": "2023-06-18T17:08:19.051952Z",
     "iopub.status.busy": "2023-06-18T17:08:19.051540Z",
     "iopub.status.idle": "2023-06-18T17:08:19.058591Z",
     "shell.execute_reply": "2023-06-18T17:08:19.056831Z",
     "shell.execute_reply.started": "2023-06-18T17:08:19.051925Z"
    },
    "trusted": true
   },
   "outputs": [],
   "source": [
    "prompt = \"\"\"I will give you a sentence in either Bengali or English. For each word in the sentence, your task is to assign one of the following labels:\n",
    "\n",
    "Symptom: These are indicators of an underlying issue, such as pain (ব্যাথা) or fever (জ্বর).\n",
    "Health Condition: Diseases like sinusitis (সাইনুসাইটিস) or health events like pregnancy (প্রেগনেন্সি) or periods (পিরিয়ড).\n",
    "Age: Numbers (numeric or textual) that specifically convey the patient’s age, e.g., 5 months (পাঁচ মাস) or 2 years (২ বছর).\n",
    "Medicine: Names of medicine like Omidon or Paracetamol (প্যারাসিটামল). The amount of active ingredient should be (e.g. 500 mg) should be considered part of the medicine name.\n",
    "Dosage: The amount of medication to take, such as 1 tablet a day or 2 spoonfuls of a syrup.\n",
    "Medical Procedure: Medical tests like Ultrasound (আলট্রাসাউন্ড) or operations like surgery (সার্জারি).\n",
    "Specialist: Names of specific medical specialists like Medicine Specialist (মেডিসিন বিশেষজ্ঞ) or Urologist (ইউরোলোজিষ্ট).\n",
    "Other: None of the above labels are appropriate.\n",
    "\n",
    "Return a list of values in pairs where the first item of the pair is the word and the second item is the chosen label. Do not return anything other than this list.\n",
    "\n",
    "The sentence is: \"\"\""
   ]
  },
  {
   "cell_type": "code",
   "execution_count": null,
   "metadata": {
    "execution": {
     "iopub.execute_input": "2023-06-18T17:12:58.362879Z",
     "iopub.status.busy": "2023-06-18T17:12:58.361764Z",
     "iopub.status.idle": "2023-06-18T17:14:54.260368Z",
     "shell.execute_reply": "2023-06-18T17:14:54.258686Z",
     "shell.execute_reply.started": "2023-06-18T17:12:58.362846Z"
    },
    "trusted": true
   },
   "outputs": [],
   "source": [
    "i = 0\n",
    "\n",
    "while i < len(df):\n",
    "    print(f\"Processing {i} of {len(df)}\")\n",
    "    try:\n",
    "        response = get_completion(prompt + df['text'][i])\n",
    "        df['response'][i] = response\n",
    "        df.to_json('data.json')\n",
    "        i = i + 1\n",
    "        time.sleep(20)\n",
    "    except Exception as e:\n",
    "        print(e)\n",
    "        time.sleep(60)"
   ]
  }
 ],
 "metadata": {
  "kernelspec": {
   "display_name": "Python 3",
   "language": "python",
   "name": "python3"
  },
  "language_info": {
   "codemirror_mode": {
    "name": "ipython",
    "version": 3
   },
   "file_extension": ".py",
   "mimetype": "text/x-python",
   "name": "python",
   "nbconvert_exporter": "python",
   "pygments_lexer": "ipython3",
   "version": "3.6.4"
  }
 },
 "nbformat": 4,
 "nbformat_minor": 4
}
